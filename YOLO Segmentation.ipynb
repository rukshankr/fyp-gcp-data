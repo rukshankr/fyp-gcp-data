{
 "cells": [
  {
   "cell_type": "code",
   "execution_count": 3,
   "id": "438f12c4-84cf-48d7-b5d9-760809aff851",
   "metadata": {},
   "outputs": [
    {
     "name": "stdout",
     "output_type": "stream",
     "text": [
      "/home/jupyter/yolov5\n"
     ]
    }
   ],
   "source": [
    "%cd yolov5"
   ]
  },
  {
   "cell_type": "code",
   "execution_count": 10,
   "id": "5b93891c-908d-4020-b891-1438373cd0ae",
   "metadata": {},
   "outputs": [
    {
     "name": "stdout",
     "output_type": "stream",
     "text": [
      "\u001b[34m\u001b[1mwandb\u001b[0m: Currently logged in as: \u001b[33mrukshankr\u001b[0m (\u001b[33mfit-afr\u001b[0m). Use \u001b[1m`wandb login --relogin`\u001b[0m to force relogin\n",
      "\u001b[34m\u001b[1msegment/train: \u001b[0mweights=yolov5s-seg.pt, cfg=, data=/home/jupyter/currymuch/datasets/AFR-1/data.yaml, hyp=data/hyps/hyp.scratch-low.yaml, epochs=3, batch_size=16, imgsz=640, rect=False, resume=False, nosave=False, noval=False, noautoanchor=False, noplots=False, evolve=None, bucket=, cache=ram, image_weights=False, device=, multi_scale=False, single_cls=False, optimizer=SGD, sync_bn=False, workers=8, project=runs/train-seg, name=yolov5s_seg_results, exist_ok=False, quad=False, cos_lr=False, label_smoothing=0.0, patience=100, freeze=[0], save_period=-1, seed=0, local_rank=-1, mask_ratio=4, no_overlap=False\n",
      "\u001b[34m\u001b[1mgithub: \u001b[0mup to date with https://github.com/ultralytics/yolov5 ✅\n",
      "YOLOv5 🚀 v7.0-53-g65071da Python-3.7.12 torch-1.11.0 CUDA:0 (Tesla V100-SXM2-16GB, 16161MiB)\n",
      "\n",
      "\u001b[34m\u001b[1mhyperparameters: \u001b[0mlr0=0.01, lrf=0.01, momentum=0.937, weight_decay=0.0005, warmup_epochs=3.0, warmup_momentum=0.8, warmup_bias_lr=0.1, box=0.05, cls=0.5, cls_pw=1.0, obj=1.0, obj_pw=1.0, iou_t=0.2, anchor_t=4.0, fl_gamma=0.0, hsv_h=0.015, hsv_s=0.7, hsv_v=0.4, degrees=0.0, translate=0.1, scale=0.5, shear=0.0, perspective=0.0, flipud=0.0, fliplr=0.5, mosaic=1.0, mixup=0.0, copy_paste=0.0\n",
      "\u001b[34m\u001b[1mTensorBoard: \u001b[0mStart with 'tensorboard --logdir runs/train-seg', view at http://localhost:6006/\n",
      "\u001b[34m\u001b[1mwandb\u001b[0m: wandb version 0.13.7 is available!  To upgrade, please run:\n",
      "\u001b[34m\u001b[1mwandb\u001b[0m:  $ pip install wandb --upgrade\n",
      "\u001b[34m\u001b[1mwandb\u001b[0m: Tracking run with wandb version 0.12.21\n",
      "\u001b[34m\u001b[1mwandb\u001b[0m: Run data is saved locally in \u001b[35m\u001b[1m/home/jupyter/yolov5/wandb/run-20230101_082838-gvksiycw\u001b[0m\n",
      "\u001b[34m\u001b[1mwandb\u001b[0m: Run \u001b[1m`wandb offline`\u001b[0m to turn off syncing.\n",
      "\u001b[34m\u001b[1mwandb\u001b[0m: Syncing run \u001b[33myolov5s_seg_results\u001b[0m\n",
      "\u001b[34m\u001b[1mwandb\u001b[0m: ⭐️ View project at \u001b[34m\u001b[4mhttps://wandb.ai/fit-afr/YOLOv5-Segment\u001b[0m\n",
      "\u001b[34m\u001b[1mwandb\u001b[0m: 🚀 View run at \u001b[34m\u001b[4mhttps://wandb.ai/fit-afr/YOLOv5-Segment/runs/gvksiycw\u001b[0m\n",
      "Overriding model.yaml nc=80 with nc=14\n",
      "\n",
      "                 from  n    params  module                                  arguments                     \n",
      "  0                -1  1      3520  models.common.Conv                      [3, 32, 6, 2, 2]              \n",
      "  1                -1  1     18560  models.common.Conv                      [32, 64, 3, 2]                \n",
      "  2                -1  1     18816  models.common.C3                        [64, 64, 1]                   \n",
      "  3                -1  1     73984  models.common.Conv                      [64, 128, 3, 2]               \n",
      "  4                -1  2    115712  models.common.C3                        [128, 128, 2]                 \n",
      "  5                -1  1    295424  models.common.Conv                      [128, 256, 3, 2]              \n",
      "  6                -1  3    625152  models.common.C3                        [256, 256, 3]                 \n",
      "  7                -1  1   1180672  models.common.Conv                      [256, 512, 3, 2]              \n",
      "  8                -1  1   1182720  models.common.C3                        [512, 512, 1]                 \n",
      "  9                -1  1    656896  models.common.SPPF                      [512, 512, 5]                 \n",
      " 10                -1  1    131584  models.common.Conv                      [512, 256, 1, 1]              \n",
      " 11                -1  1         0  torch.nn.modules.upsampling.Upsample    [None, 2, 'nearest']          \n",
      " 12           [-1, 6]  1         0  models.common.Concat                    [1]                           \n",
      " 13                -1  1    361984  models.common.C3                        [512, 256, 1, False]          \n",
      " 14                -1  1     33024  models.common.Conv                      [256, 128, 1, 1]              \n",
      " 15                -1  1         0  torch.nn.modules.upsampling.Upsample    [None, 2, 'nearest']          \n",
      " 16           [-1, 4]  1         0  models.common.Concat                    [1]                           \n",
      " 17                -1  1     90880  models.common.C3                        [256, 128, 1, False]          \n",
      " 18                -1  1    147712  models.common.Conv                      [128, 128, 3, 2]              \n",
      " 19          [-1, 14]  1         0  models.common.Concat                    [1]                           \n",
      " 20                -1  1    296448  models.common.C3                        [256, 256, 1, False]          \n",
      " 21                -1  1    590336  models.common.Conv                      [256, 256, 3, 2]              \n",
      " 22          [-1, 10]  1         0  models.common.Concat                    [1]                           \n",
      " 23                -1  1   1182720  models.common.C3                        [512, 512, 1, False]          \n",
      " 24      [17, 20, 23]  1    437131  models.yolo.Segment                     [14, [[10, 13, 16, 30, 33, 23], [30, 61, 62, 45, 59, 119], [116, 90, 156, 198, 373, 326]], 32, 128, [128, 256, 512]]\n",
      "Model summary: 225 layers, 7443275 parameters, 7443275 gradients, 26.0 GFLOPs\n",
      "\n",
      "Transferred 361/367 items from yolov5s-seg.pt\n",
      "\u001b[34m\u001b[1mAMP: \u001b[0mchecks passed ✅\n",
      "\u001b[34m\u001b[1moptimizer:\u001b[0m SGD(lr=0.01) with parameter groups 60 weight(decay=0.0), 63 weight(decay=0.0005), 63 bias\n",
      "\u001b[34m\u001b[1malbumentations: \u001b[0mBlur(p=0.01, blur_limit=(3, 7)), MedianBlur(p=0.01, blur_limit=(3, 7)), ToGray(p=0.01), CLAHE(p=0.01, clip_limit=(1, 4.0), tile_grid_size=(8, 8))\n",
      "\u001b[34m\u001b[1mtrain: \u001b[0mScanning /home/jupyter/currymuch/datasets/AFR-1/train/labels.cache... 260\u001b[0m\n",
      "\u001b[34m\u001b[1mtrain: \u001b[0mCaching images (3.0GB ram): 100%|██████████| 2606/2606 [00:07<00:00, 358.\u001b[0m\n",
      "\u001b[34m\u001b[1mval: \u001b[0mScanning /home/jupyter/currymuch/datasets/AFR-1/valid/labels.cache... 426 i\u001b[0m\n",
      "\u001b[34m\u001b[1mval: \u001b[0mCaching images (0.5GB ram): 100%|██████████| 426/426 [00:01<00:00, 357.73it\u001b[0m\n",
      "\n",
      "\u001b[34m\u001b[1mAutoAnchor: \u001b[0m3.93 anchors/target, 1.000 Best Possible Recall (BPR). Current anchors are a good fit to dataset ✅\n",
      "Plotting labels to runs/train-seg/yolov5s_seg_results3/labels.jpg... \n",
      "Image sizes 640 train, 640 val\n",
      "Using 4 dataloader workers\n",
      "Logging results to \u001b[1mruns/train-seg/yolov5s_seg_results3\u001b[0m\n",
      "Starting training for 3 epochs...\n",
      "\n",
      "      Epoch    GPU_mem   box_loss   seg_loss   obj_loss   cls_loss  Instances       Size\n",
      "  0%|          | 0/163 [00:00<?, ?it/s]\n",
      "Traceback (most recent call last):\n",
      "  File \"segment/train.py\", line 658, in <module>\n",
      "    main(opt)\n",
      "  File \"segment/train.py\", line 554, in main\n",
      "    train(opt.hyp, opt, device, callbacks)\n",
      "  File \"segment/train.py\", line 283, in train\n",
      "    for i, (imgs, targets, paths, _, masks) in pbar:  # batch ------------------------------------------------------\n",
      "  File \"/opt/conda/lib/python3.7/site-packages/tqdm/std.py\", line 1195, in __iter__\n",
      "    for obj in iterable:\n",
      "  File \"/home/jupyter/yolov5/utils/dataloaders.py\", line 172, in __iter__\n",
      "    yield next(self.iterator)\n",
      "  File \"/opt/conda/lib/python3.7/site-packages/torch/utils/data/dataloader.py\", line 530, in __next__\n",
      "    data = self._next_data()\n",
      "  File \"/opt/conda/lib/python3.7/site-packages/torch/utils/data/dataloader.py\", line 1224, in _next_data\n",
      "    return self._process_data(data)\n",
      "  File \"/opt/conda/lib/python3.7/site-packages/torch/utils/data/dataloader.py\", line 1250, in _process_data\n",
      "    data.reraise()\n",
      "  File \"/opt/conda/lib/python3.7/site-packages/torch/_utils.py\", line 457, in reraise\n",
      "    raise exception\n",
      "IndexError: Caught IndexError in DataLoader worker process 0.\n",
      "Original Traceback (most recent call last):\n",
      "  File \"/opt/conda/lib/python3.7/site-packages/torch/utils/data/_utils/worker.py\", line 287, in _worker_loop\n",
      "    data = fetcher.fetch(index)\n",
      "  File \"/opt/conda/lib/python3.7/site-packages/torch/utils/data/_utils/fetch.py\", line 49, in fetch\n",
      "    data = [self.dataset[idx] for idx in possibly_batched_index]\n",
      "  File \"/opt/conda/lib/python3.7/site-packages/torch/utils/data/_utils/fetch.py\", line 49, in <listcomp>\n",
      "    data = [self.dataset[idx] for idx in possibly_batched_index]\n",
      "  File \"/home/jupyter/yolov5/utils/segment/dataloaders.py\", line 115, in __getitem__\n",
      "    img, labels, segments = self.load_mosaic(index)\n",
      "  File \"/home/jupyter/yolov5/utils/segment/dataloaders.py\", line 263, in load_mosaic\n",
      "    border=self.mosaic_border)  # border to remove\n",
      "  File \"/home/jupyter/yolov5/utils/segment/augmentations.py\", line 102, in random_perspective\n",
      "    new_segments = np.array(new_segments)[i]\n",
      "IndexError: boolean index did not match indexed array along dimension 0; dimension is 0 but corresponding boolean dimension is 6\n",
      "\n",
      "\u001b[34m\u001b[1mwandb\u001b[0m: Waiting for W&B process to finish... \u001b[31m(failed 1).\u001b[0m Press Control-C to abort syncing.\n",
      "\u001b[34m\u001b[1mwandb\u001b[0m:                                                                                \n",
      "\u001b[34m\u001b[1mwandb\u001b[0m: Synced \u001b[33myolov5s_seg_results\u001b[0m: \u001b[34m\u001b[4mhttps://wandb.ai/fit-afr/YOLOv5-Segment/runs/gvksiycw\u001b[0m\n",
      "\u001b[34m\u001b[1mwandb\u001b[0m: Synced 6 W&B file(s), 0 media file(s), 0 artifact file(s) and 0 other file(s)\n",
      "\u001b[34m\u001b[1mwandb\u001b[0m: Find logs at: \u001b[35m\u001b[1m./wandb/run-20230101_082838-gvksiycw/logs\u001b[0m\n"
     ]
    }
   ],
   "source": [
    "# !python segment/train.py  --img 416 --batch 8 --epochs 5 --weights runs/train/yolov5s_results10/weights/best.pt --name yolov5s_seg_results --cache --data  /home/jupyter/currymuch/datasets/AFR-1/data.yaml\n",
    "!python segment/train.py --img 640 --batch 16 --epochs 3 --data  /home/jupyter/currymuch/datasets/AFR-1/data.yaml --weights yolov5s-seg.pt --name yolov5s_seg_results --cache"
   ]
  },
  {
   "cell_type": "code",
   "execution_count": 8,
   "id": "f6878e61-dde1-4373-8f94-b3ffaa23d7df",
   "metadata": {},
   "outputs": [
    {
     "name": "stdout",
     "output_type": "stream",
     "text": [
      "\u001b[34m\u001b[1msegment/predict: \u001b[0mweights=['yolov5s-seg.pt'], source=/home/jupyter/roboflow_test, data=data/coco128.yaml, imgsz=[640, 640], conf_thres=0.3, iou_thres=0.45, max_det=1000, device=, view_img=False, save_txt=True, save_conf=False, save_crop=False, nosave=False, classes=None, agnostic_nms=False, augment=False, visualize=False, update=False, project=runs/predict-seg, name=exp, exist_ok=False, line_thickness=3, hide_labels=False, hide_conf=False, half=False, dnn=False, vid_stride=1, retina_masks=False\n",
      "YOLOv5 🚀 v7.0-53-g65071da Python-3.7.12 torch-1.11.0 CUDA:0 (Tesla V100-SXM2-16GB, 16161MiB)\n",
      "\n",
      "Fusing layers... \n",
      "YOLOv5s-seg summary: 224 layers, 7611485 parameters, 0 gradients, 26.4 GFLOPs\n",
      "image 1/29 /home/jupyter/roboflow_test/00BB0.jpg: 640x640 2 sandwichs, 1 dining table, 16.5ms\n",
      "image 2/29 /home/jupyter/roboflow_test/00RF5.jpg: 640x640 (no detections), 17.7ms\n",
      "image 3/29 /home/jupyter/roboflow_test/00SWW.jpg: 640x640 1 sandwich, 15.8ms\n",
      "image 4/29 /home/jupyter/roboflow_test/0A1KB.jpg: 640x640 4 donuts, 14.1ms\n",
      "image 5/29 /home/jupyter/roboflow_test/0AJ2N.jpg: 640x640 1 sandwich, 13.9ms\n",
      "image 6/29 /home/jupyter/roboflow_test/0AZEJ.jpg: 640x640 3 sandwichs, 16.7ms\n",
      "image 7/29 /home/jupyter/roboflow_test/0BRHQ.jpg: 640x640 2 sandwichs, 11.4ms\n",
      "image 8/29 /home/jupyter/roboflow_test/0a509ee46251a951.jpg: 480x640 (no detections), 23.8ms\n",
      "image 9/29 /home/jupyter/roboflow_test/0a8b7d119116af1c.jpg: 640x640 1 sandwich, 14.9ms\n",
      "image 10/29 /home/jupyter/roboflow_test/0c49414184f24eeb.jpg: 448x640 1 sandwich, 29.3ms\n",
      "image 11/29 /home/jupyter/roboflow_test/0ca63a6717f8f12e.jpg: 448x640 (no detections), 16.3ms\n",
      "image 12/29 /home/jupyter/roboflow_test/100_2762text.jpg: 480x640 1 bowl, 1 sandwich, 2 donuts, 16.9ms\n",
      "image 13/29 /home/jupyter/roboflow_test/100s.jpg: 384x640 (no detections), 26.1ms\n",
      "image 14/29 /home/jupyter/roboflow_test/3s.jpg: 640x640 1 sandwich, 1 broccoli, 16.5ms\n",
      "image 15/29 /home/jupyter/roboflow_test/4DA3C541-0A25-4F41-92B6-4C426DDAA791-768x1024.jpeg: 640x480 1 sandwich, 29.6ms\n",
      "image 16/29 /home/jupyter/roboflow_test/596a78b3552be58e008b4c6e.webp: 416x640 25 hot dogs, 27.6ms\n",
      "image 17/29 /home/jupyter/roboflow_test/5bs.jpg: 640x640 5 sandwichs, 13.0ms\n",
      "image 18/29 /home/jupyter/roboflow_test/7bs.jpg: 448x640 1 person, 6 sandwichs, 3 hot dogs, 13.8ms\n",
      "image 19/29 /home/jupyter/roboflow_test/CN10018-Vietnamese-hot-dog-hero.jpg: 640x640 5 sandwichs, 2 hot dogs, 10.6ms\n",
      "image 20/29 /home/jupyter/roboflow_test/Chinese-Rolls-500x448.jpg: 576x640 1 donut, 30.2ms\n",
      "image 21/29 /home/jupyter/roboflow_test/DSC_2889-Copy-1000x683.jpg: 448x640 1 bowl, 11 donuts, 22.1ms\n",
      "image 22/29 /home/jupyter/roboflow_test/cs6.jpg: 448x640 6 cakes, 15.6ms\n",
      "image 23/29 /home/jupyter/roboflow_test/cs6_one.jpg: 384x640 4 cakes, 16.4ms\n",
      "image 24/29 /home/jupyter/roboflow_test/gettyimages-984381796-612x612.jpg: 448x640 (no detections), 14.8ms\n",
      "image 25/29 /home/jupyter/roboflow_test/om.jpg: 480x640 1 carrot, 15.2ms\n",
      "image 26/29 /home/jupyter/roboflow_test/omelet-for-one-R026690-1-15bedd2eac6c4b7f9fed9a11c02a402f.jpg: 384x640 1 sandwich, 3 broccolis, 1 hot dog, 17.4ms\n",
      "image 27/29 /home/jupyter/roboflow_test/p2.jpg: 640x448 (no detections), 29.3ms\n",
      "image 28/29 /home/jupyter/roboflow_test/sandwiches_de_miga.jpg: 384x640 2 sandwichs, 17.6ms\n",
      "image 29/29 /home/jupyter/roboflow_test/sddefault.jpg: 480x640 2 bottles, 22 hot dogs, 16.1ms\n",
      "Speed: 0.6ms pre-process, 18.6ms inference, 2.0ms NMS per image at shape (1, 3, 640, 640)\n",
      "Results saved to \u001b[1mruns/predict-seg/exp4\u001b[0m\n",
      "23 labels saved to runs/predict-seg/exp4/labels\n"
     ]
    }
   ],
   "source": [
    "!python segment/predict.py --weights yolov5s-seg.pt --img 640 --conf 0.3 --source /home/jupyter/roboflow_test --save-txt"
   ]
  }
 ],
 "metadata": {
  "kernelspec": {
   "display_name": "Python 3 (ipykernel)",
   "language": "python",
   "name": "python3"
  },
  "language_info": {
   "codemirror_mode": {
    "name": "ipython",
    "version": 3
   },
   "file_extension": ".py",
   "mimetype": "text/x-python",
   "name": "python",
   "nbconvert_exporter": "python",
   "pygments_lexer": "ipython3",
   "version": "3.7.12"
  }
 },
 "nbformat": 4,
 "nbformat_minor": 5
}
