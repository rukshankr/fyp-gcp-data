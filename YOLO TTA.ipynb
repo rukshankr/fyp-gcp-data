{
 "cells": [
  {
   "cell_type": "code",
   "execution_count": null,
   "id": "0ae97ae9-0bdc-417c-ac5e-3ae525805c6a",
   "metadata": {},
   "outputs": [],
   "source": [
    "test normally"
   ]
  },
  {
   "cell_type": "code",
   "execution_count": 1,
   "id": "5bcf8dbd-1ffa-4abe-9782-abaf93d1b739",
   "metadata": {},
   "outputs": [
    {
     "name": "stdout",
     "output_type": "stream",
     "text": [
      "/home/jupyter/yolov5\n"
     ]
    }
   ],
   "source": [
    "%cd yolov5"
   ]
  },
  {
   "cell_type": "code",
   "execution_count": null,
   "id": "0f5b3ed2-9a3b-4fe4-aecc-e0f172385ee4",
   "metadata": {},
   "outputs": [],
   "source": [
    "!python val.py --weights yolov5x.pt --data /home/jupyter/currymuch/datasets/AFR-1/data.yaml --img 640 --half --task test"
   ]
  },
  {
   "cell_type": "code",
   "execution_count": null,
   "id": "07ec9e24-4575-4109-9b79-6e86aa5185d0",
   "metadata": {},
   "outputs": [],
   "source": [
    "test with TTA"
   ]
  },
  {
   "cell_type": "code",
   "execution_count": null,
   "id": "2f7f4e0b-6b17-4523-a963-03fde53e1daf",
   "metadata": {},
   "outputs": [],
   "source": [
    "!python val.py --weights yolov5x.pt --data /home/jupyter/currymuch/datasets/AFR-1/data.yaml --img 832 --augment --half --task test"
   ]
  }
 ],
 "metadata": {
  "kernelspec": {
   "display_name": "Python 3 (ipykernel)",
   "language": "python",
   "name": "python3"
  },
  "language_info": {
   "codemirror_mode": {
    "name": "ipython",
    "version": 3
   },
   "file_extension": ".py",
   "mimetype": "text/x-python",
   "name": "python",
   "nbconvert_exporter": "python",
   "pygments_lexer": "ipython3",
   "version": "3.7.12"
  }
 },
 "nbformat": 4,
 "nbformat_minor": 5
}
